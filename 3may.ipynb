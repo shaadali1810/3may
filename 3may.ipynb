{
 "cells": [
  {
   "cell_type": "code",
   "execution_count": 1,
   "id": "65434814-dba4-4e3b-9679-35efa1c4bfb2",
   "metadata": {},
   "outputs": [],
   "source": [
    "#1 feature selection plays an important role when it comes to improve outlier detection in terms of identifying noisy data that contain irrelevant or redundant features. State-of-the-art work either focuses on unsupervised feature selection for data streams or (offline) outlier detection."
   ]
  },
  {
   "cell_type": "code",
   "execution_count": 2,
   "id": "5218cf76-ce42-400e-b265-ea1e45042098",
   "metadata": {},
   "outputs": [],
   "source": [
    "#2One way to evaluate anomaly detection models is to use precision and recall, which are commonly used for binary classification problems. Precision measures the fraction of detected anomalies that are actually true anomalies, while recall measures the fraction of true anomalies that are detected by the model"
   ]
  },
  {
   "cell_type": "code",
   "execution_count": 3,
   "id": "4f74cbba-1b77-43fc-b7d2-f0ae454bdc97",
   "metadata": {},
   "outputs": [],
   "source": [
    "#3Defined distance (DBSCAN)—Uses a specified distance to separate dense clusters from sparser noise. The DBSCAN algorithm is the fastest of the clustering methods, but is only appropriate if there is a very clear Search Distance to use, and that works well for all potential clusters."
   ]
  },
  {
   "cell_type": "code",
   "execution_count": 4,
   "id": "5aa3ef68-7994-47d9-b933-302d952768f4",
   "metadata": {},
   "outputs": [],
   "source": [
    "#4 Too small epsilon: If epsilon is chosen much too small, then a large part of the data will not be clustered. Too large epsilon: If epsilon is chosen much too large, then clusters will merge and the majority of objects will be in the same cluster."
   ]
  },
  {
   "cell_type": "code",
   "execution_count": 5,
   "id": "78a91945-1e0c-4f35-aa2f-7d20111260de",
   "metadata": {},
   "outputs": [],
   "source": [
    "#5 Core points are those that have a minimum number of points (MinPts) within a specified radius ε. Border points have fewer than MinPts within ε but are in the neighborhood of a core point. Noise points are all other points that are neither core nor border points."
   ]
  },
  {
   "cell_type": "code",
   "execution_count": 6,
   "id": "c09d6fa5-58d9-4617-be21-13d47a08ffb0",
   "metadata": {},
   "outputs": [],
   "source": [
    "#6DBSCAN requires only two parameters: epsilon and minPoints. Epsilon is the radius of the circle to be created around each data point to check the density and minPoints is the minimum number of data points required inside that circle for that data point to be classified as a Core point."
   ]
  },
  {
   "cell_type": "code",
   "execution_count": 7,
   "id": "aee27921-03e9-44fe-b93e-a75dda9da781",
   "metadata": {},
   "outputs": [],
   "source": [
    "#7 Make a large circle containing a smaller circle in 2d. A simple toy dataset to visualize clustering and classification algorithms. Read more in the User Guide."
   ]
  },
  {
   "cell_type": "code",
   "execution_count": 8,
   "id": "51e09141-174c-47ee-bc24-8036d1921edb",
   "metadata": {},
   "outputs": [],
   "source": [
    "#8  a global outlier, outlier detection considers all data points, and the data point pt is considered an outlier if it is far away from all other data points [7]. The local outlier detection covers a small subset of data points at a time"
   ]
  },
  {
   "cell_type": "code",
   "execution_count": 9,
   "id": "297fa6f2-a497-479b-9c87-cf5c2b38d4e7",
   "metadata": {},
   "outputs": [],
   "source": [
    "#9By comparing the density of the data point and density of all the data points in the neighborhood, whether the density of the data point is lower than the density of the neighborhood can be determined. This scenario indicates the presence of an outlier."
   ]
  },
  {
   "cell_type": "code",
   "execution_count": 10,
   "id": "97b96056-c59f-4ceb-b62f-d4d4b4e01f59",
   "metadata": {},
   "outputs": [],
   "source": [
    "#10 The splittings required to isolate data are equivalent to the path length for a sample feature. Random partitioning produces shorter paths for anomalous sample data. Hence, when a shorter path length is noticed for sample data, it can be identified as an anomaly. Sample with the shortest path length considered outlier."
   ]
  },
  {
   "cell_type": "code",
   "execution_count": 11,
   "id": "0646bb0a-2055-4588-82d8-c700fd103690",
   "metadata": {},
   "outputs": [],
   "source": [
    "#11 Outlier detection is extensively used in a wide variety of applications such as military surveillance for enemy activities to prevent attacks, intrusion detection in cyber security, fraud detection for credit cards, insurance or health care and fault detection in safety critical systems and in various kind of images."
   ]
  },
  {
   "cell_type": "code",
   "execution_count": null,
   "id": "d3b4b755-4c1a-4b97-ac20-018913536e62",
   "metadata": {},
   "outputs": [],
   "source": []
  }
 ],
 "metadata": {
  "kernelspec": {
   "display_name": "Python 3 (ipykernel)",
   "language": "python",
   "name": "python3"
  },
  "language_info": {
   "codemirror_mode": {
    "name": "ipython",
    "version": 3
   },
   "file_extension": ".py",
   "mimetype": "text/x-python",
   "name": "python",
   "nbconvert_exporter": "python",
   "pygments_lexer": "ipython3",
   "version": "3.10.8"
  }
 },
 "nbformat": 4,
 "nbformat_minor": 5
}
